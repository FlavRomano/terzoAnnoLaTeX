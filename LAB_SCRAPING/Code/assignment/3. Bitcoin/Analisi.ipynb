{
 "cells": [
  {
   "attachments": {},
   "cell_type": "markdown",
   "id": "614d7530",
   "metadata": {},
   "source": [
    "### Transactions\n",
    "- tx_id: identificatore della transazione\n",
    "- blk_id: identificatore del blocco in cui la transazione è stata inserita\n",
    "### Inputs\n",
    "- in_id: identificatore unico dell'input\n",
    "- tx_id: identificatore della transazione\n",
    "- sig_id: firma dello script, -1 se input di una coinbase\n",
    "- output_id: identificatore unico dell'output che quell'input sta spendendo\n",
    "### Outputs\n",
    "- output_id: identificatore unico dell'output\n",
    "- tx_id: identificatore della transazione a cui quell'output appartiene\n",
    "- pk_id: identificatore della chiave pubblica usata nello script\n",
    "- value: valore speso sull'output di quella transazione\n",
    "### Dates\n",
    "- blk_id: identificatore del blocco\n",
    "- time: timestamp della creazione del blocco"
   ]
  },
  {
   "cell_type": "code",
   "execution_count": 22,
   "id": "821c405b",
   "metadata": {},
   "outputs": [
    {
     "name": "stdout",
     "output_type": "stream",
     "text": [
      "         tx_id  blk_id  in_id  sig_id  output_id     pk_id         value\n",
      "0            1     0.0    1.0     0.0         -1       NaN           NaN\n",
      "1            2     1.0    2.0     0.0         -1       NaN           NaN\n",
      "2            3     2.0    3.0     0.0         -1       NaN           NaN\n",
      "3            4     3.0    4.0     0.0         -1       NaN           NaN\n",
      "4            5     4.0    5.0     0.0         -1       NaN           NaN\n",
      "...        ...     ...    ...     ...        ...       ...           ...\n",
      "556731  216623     NaN    NaN     NaN     264306  174700.0  1.000000e+06\n",
      "556732  216623     NaN    NaN     NaN     264307  174701.0  2.990000e+08\n",
      "556733  216624     NaN    NaN     NaN     264308  167815.0  1.000000e+06\n",
      "556734  216625     NaN    NaN     NaN     264309  174695.0  1.200000e+06\n",
      "556735  216626     NaN    NaN     NaN     264310  174701.0  5.000000e+09\n",
      "\n",
      "[556736 rows x 7 columns]\n"
     ]
    }
   ],
   "source": [
    "import pandas as pd\n",
    "\n",
    "# A = inputs(sig_id, output_id)-outputs(pk_id, id)\n",
    "# transaction(id)-A(tx_id)\n",
    "\n",
    "transactions = pd.read_csv(\"./datasets/transactions.csv\", names=[\"tx_id\", \"blk_id\"])\n",
    "inputs = pd.read_csv(\"./datasets/inputs.csv\", names=[\"in_id\", \"tx_id\", \"sig_id\", \"output_id\"])\n",
    "outputs = pd.read_csv(\"./datasets/outputs.csv\", names=[\"output_id\", \"tx_id\", \"pk_id\", \"value\"])\n",
    "dates = pd.read_csv(\"./datasets/dates.csv\", date_parser=\"time\")\n",
    "\n",
    "dataset = transactions.merge(inputs, how=\"left\", on=\"tx_id\").merge(outputs, how=\"outer\", \n",
    "                        left_on=[\"output_id\", \"tx_id\", \"sig_id\"], right_on=[\"output_id\", \"tx_id\", \"pk_id\"])\n",
    "\n",
    "print(dataset)\n",
    "\n",
    "\n"
   ]
  }
 ],
 "metadata": {
  "kernelspec": {
   "display_name": "Python 3",
   "language": "python",
   "name": "python3"
  },
  "language_info": {
   "codemirror_mode": {
    "name": "ipython",
    "version": 3
   },
   "file_extension": ".py",
   "mimetype": "text/x-python",
   "name": "python",
   "nbconvert_exporter": "python",
   "pygments_lexer": "ipython3",
   "version": "3.10.0"
  },
  "vscode": {
   "interpreter": {
    "hash": "aee8b7b246df8f9039afb4144a1f6fd8d2ca17a180786b69acc140d282b71a49"
   }
  }
 },
 "nbformat": 4,
 "nbformat_minor": 5
}

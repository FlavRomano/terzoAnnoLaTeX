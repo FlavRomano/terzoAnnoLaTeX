{
 "cells": [
  {
   "cell_type": "markdown",
   "id": "6c38e430",
   "metadata": {},
   "source": [
    "## 1. Indicare due modi diversi per importare il dataset dei giocatori della National Football League in un DataFrame PANDAS"
   ]
  },
  {
   "cell_type": "code",
   "execution_count": null,
   "id": "7d2c2b53",
   "metadata": {},
   "outputs": [],
   "source": []
  }
 ],
 "metadata": {
  "kernelspec": {
   "display_name": "Python 3 (ipykernel)",
   "language": "python",
   "name": "python3"
  },
  "language_info": {
   "codemirror_mode": {
    "name": "ipython",
    "version": 3
   },
   "file_extension": ".py",
   "mimetype": "text/x-python",
   "name": "python",
   "nbconvert_exporter": "python",
   "pygments_lexer": "ipython3",
   "version": "3.11.1"
  }
 },
 "nbformat": 4,
 "nbformat_minor": 5
}

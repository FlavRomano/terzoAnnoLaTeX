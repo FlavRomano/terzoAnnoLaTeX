{
 "cells": [
  {
   "attachments": {},
   "cell_type": "markdown",
   "id": "6c38e430",
   "metadata": {},
   "source": [
    "## Indicare due modi diversi per importare il dataset dei giocatori della National Football League in un DataFrame PANDAS"
   ]
  },
  {
   "cell_type": "code",
   "execution_count": 1,
   "id": "7d2c2b53",
   "metadata": {},
   "outputs": [],
   "source": [
    "import pandas as pd\n",
    "\n",
    "dataframe = pd.read_csv(\"./nfl.csv\", parse_dates=[\"Birthday\"])"
   ]
  },
  {
   "attachments": {},
   "cell_type": "markdown",
   "id": "f88df043",
   "metadata": {},
   "source": [
    "## Costruire un indice delle righe del DataFrame, utilizzando il Nome Del Giocatori: indicare due modi diversi per costruire l'indice"
   ]
  },
  {
   "cell_type": "code",
   "execution_count": 39,
   "id": "9e4da80c",
   "metadata": {},
   "outputs": [
    {
     "name": "stdout",
     "output_type": "stream",
     "text": [
      "                                    Team Position   Birthday   Salary\n",
      "Name                                                                 \n",
      "Tremon Smith         Philadelphia Eagles       RB 1996-07-20   570000\n",
      "Shawn Williams        Cincinnati Bengals       SS 1991-05-13  3500000\n",
      "Adam Butler         New England Patriots       DT 1994-04-12   645000\n",
      "Derek Wolfe               Denver Broncos       DE 1990-02-24  8000000\n",
      "Jake Ryan           Jacksonville Jaguars      OLB 1992-02-27  1000000\n",
      "...                                  ...      ...        ...      ...\n",
      "Bashaud Breeland      Kansas City Chiefs       CB 1992-01-30   805000\n",
      "Craig James          Philadelphia Eagles       CB 1996-04-29   570000\n",
      "Jonotthan Harrison         New York Jets        C 1991-08-25  1500000\n",
      "Chuma Edoga                New York Jets       OT 1997-05-25   495000\n",
      "Tajae Sharpe            Tennessee Titans       WR 1994-12-23  2025000\n",
      "\n",
      "[1655 rows x 4 columns]\n"
     ]
    }
   ],
   "source": [
    "df1 = dataframe.set_index(\"Name\")\n",
    "print(df1)"
   ]
  },
  {
   "attachments": {},
   "cell_type": "markdown",
   "id": "bbd7b058",
   "metadata": {},
   "source": [
    "## Contare il numero di giocatori per ogni team: indicare tre modi diversi per rispondere alla precedente query"
   ]
  },
  {
   "cell_type": "code",
   "execution_count": 3,
   "id": "aa4c1bb1",
   "metadata": {},
   "outputs": [
    {
     "name": "stdout",
     "output_type": "stream",
     "text": [
      "Team\n",
      "Arizona Cardinals       51\n",
      "Atlanta Falcons         53\n",
      "Baltimore Ravens        48\n",
      "Buffalo Bills           53\n",
      "Carolina Panthers       49\n",
      "Chicago Bears           53\n",
      "Cincinnati Bengals      51\n",
      "Cleveland Browns        49\n",
      "Dallas Cowboys          53\n",
      "Denver Broncos          54\n",
      "Detroit Lions           53\n",
      "Green Bay Packers       51\n",
      "Houston Texans          52\n",
      "Indianapolis Colts      49\n",
      "Jacksonville Jaguars    50\n",
      "Kansas City Chiefs      56\n",
      "Los Angeles Chargers    54\n",
      "Los Angeles Rams        52\n",
      "Miami Dolphins          49\n",
      "Minnesota Vikings       54\n",
      "New England Patriots    49\n",
      "New Orleans Saints      55\n",
      "New York Giants         52\n",
      "New York Jets           58\n",
      "Oakland Raiders         51\n",
      "Philadelphia Eagles     52\n",
      "Pittsburgh Steelers     47\n",
      "San Francisco 49Ers     55\n",
      "Seattle Seahawks        53\n",
      "Tampa Bay Buccaneers    47\n",
      "Tennessee Titans        46\n",
      "Washington Redskins     56\n",
      "Name: #Players, dtype: int64\n",
      "New York Jets           58\n",
      "Kansas City Chiefs      56\n",
      "Washington Redskins     56\n",
      "New Orleans Saints      55\n",
      "San Francisco 49Ers     55\n",
      "Denver Broncos          54\n",
      "Minnesota Vikings       54\n",
      "Los Angeles Chargers    54\n",
      "Seattle Seahawks        53\n",
      "Dallas Cowboys          53\n",
      "Buffalo Bills           53\n",
      "Atlanta Falcons         53\n",
      "Detroit Lions           53\n",
      "Chicago Bears           53\n",
      "Los Angeles Rams        52\n",
      "New York Giants         52\n",
      "Philadelphia Eagles     52\n",
      "Houston Texans          52\n",
      "Arizona Cardinals       51\n",
      "Cincinnati Bengals      51\n",
      "Green Bay Packers       51\n",
      "Oakland Raiders         51\n",
      "Jacksonville Jaguars    50\n",
      "Cleveland Browns        49\n",
      "Miami Dolphins          49\n",
      "Indianapolis Colts      49\n",
      "Carolina Panthers       49\n",
      "New England Patriots    49\n",
      "Baltimore Ravens        48\n",
      "Pittsburgh Steelers     47\n",
      "Tampa Bay Buccaneers    47\n",
      "Tennessee Titans        46\n",
      "Name: Team, dtype: int64\n"
     ]
    }
   ],
   "source": [
    "sol1 = dataframe.groupby(\"Team\").count().rename(\n",
    "    {\"Name\": \"#Players\"}, axis=\"columns\")[\"#Players\"]\n",
    "print(sol1)\n",
    "\n",
    "sol2 = dataframe[\"Team\"].value_counts()\n",
    "print(sol2)\n",
    "\n",
    "sol3 = dataframe\n"
   ]
  },
  {
   "attachments": {},
   "cell_type": "markdown",
   "id": "11828b40",
   "metadata": {},
   "source": [
    "## Stampare i 5 giocatori più pagati, tra tutte le squadre"
   ]
  },
  {
   "cell_type": "code",
   "execution_count": 4,
   "id": "65d7a65c",
   "metadata": {},
   "outputs": [
    {
     "name": "stdout",
     "output_type": "stream",
     "text": [
      "                                 Team Position   Birthday    Salary\n",
      "Name                                                               \n",
      "Kirk Cousins        Minnesota Vikings       QB 1988-08-19  27500000\n",
      "Jameis Winston   Tampa Bay Buccaneers       QB 1994-01-06  20922000\n",
      "Marcus Mariota       Tennessee Titans       QB 1993-10-30  20922000\n",
      "Derek Carr            Oakland Raiders       QB 1991-03-28  19900000\n",
      "Jimmy Garoppolo   San Francisco 49Ers       QB 1991-11-02  17200000\n"
     ]
    }
   ],
   "source": [
    "top_5_players = dataframe.sort_values(\n",
    "    by=\"Salary\", ascending=False).head().set_index(\"Name\")\n",
    "\n",
    "print(top_5_players)"
   ]
  },
  {
   "attachments": {},
   "cell_type": "markdown",
   "id": "46f828f3",
   "metadata": {},
   "source": [
    "## Stampare il DataFrame ordinandolo prima in base ai Nomi dei team, quindi, all'interno dello stesso team, ordinando i giocatori in base al salario, in senso discendente"
   ]
  },
  {
   "cell_type": "code",
   "execution_count": 5,
   "id": "8d457b31",
   "metadata": {},
   "outputs": [
    {
     "name": "stdout",
     "output_type": "stream",
     "text": [
      "                    Name                 Team Position   Birthday    Salary\n",
      "1577      Chandler Jones    Arizona Cardinals      OLB 1990-02-27  16500000\n",
      "669     Patrick Peterson    Arizona Cardinals       CB 1990-07-11  11000000\n",
      "1361    Larry Fitzgerald    Arizona Cardinals       WR 1983-08-31  11000000\n",
      "1594       David Johnson    Arizona Cardinals       RB 1991-12-16   5700000\n",
      "948          Justin Pugh    Arizona Cardinals        G 1990-08-15   5000000\n",
      "...                  ...                  ...      ...        ...       ...\n",
      "1109  Ross Pierschbacher  Washington Redskins        C 1995-05-05    495000\n",
      "1325       Kelvin Harmon  Washington Redskins       WR 1996-12-15    495000\n",
      "1344          Wes Martin  Washington Redskins        G 1996-05-09    495000\n",
      "1345      Jimmy Moreland  Washington Redskins       CB 1995-08-26    495000\n",
      "1509       Jeremy Reaves  Washington Redskins       SS 1996-08-29    495000\n",
      "\n",
      "[1655 rows x 5 columns]\n"
     ]
    }
   ],
   "source": [
    "print(dataframe.sort_values(by=[\"Team\", \"Salary\"], ascending=[True, False]))\n"
   ]
  },
  {
   "attachments": {},
   "cell_type": "markdown",
   "id": "dec8caab",
   "metadata": {},
   "source": [
    "## stampare il nome del giocatore più vecchio dei New York Jets, con la data del suo compleanno: indicare due modi diversi per risolvere l'esercizio"
   ]
  },
  {
   "cell_type": "code",
   "execution_count": 6,
   "metadata": {},
   "outputs": [
    {
     "name": "stdout",
     "output_type": "stream",
     "text": [
      "Tom Brady\n",
      "Tom Brady\n"
     ]
    }
   ],
   "source": [
    "oldest_fella = dataframe.loc[dataframe[\"Birthday\"].idxmin()]\n",
    "print(oldest_fella[\"Name\"])\n",
    "\n",
    "oldest_fella = dataframe.sort_values(by=\"Birthday\").iloc[0]\n",
    "print(oldest_fella[\"Name\"])\n"
   ]
  }
 ],
 "metadata": {
  "kernelspec": {
   "display_name": "Python 3",
   "language": "python",
   "name": "python3"
  },
  "language_info": {
   "codemirror_mode": {
    "name": "ipython",
    "version": 3
   },
   "file_extension": ".py",
   "mimetype": "text/x-python",
   "name": "python",
   "nbconvert_exporter": "python",
   "pygments_lexer": "ipython3",
   "version": "3.10.0"
  },
  "vscode": {
   "interpreter": {
    "hash": "aee8b7b246df8f9039afb4144a1f6fd8d2ca17a180786b69acc140d282b71a49"
   }
  }
 },
 "nbformat": 4,
 "nbformat_minor": 5
}
